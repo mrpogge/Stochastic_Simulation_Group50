{
  "nbformat": 4,
  "nbformat_minor": 0,
  "metadata": {
    "colab": {
      "name": "Stoch_sim_a2.ipynb",
      "provenance": [],
      "collapsed_sections": []
    },
    "kernelspec": {
      "name": "python3",
      "display_name": "Python 3"
    },
    "language_info": {
      "name": "python"
    }
  },
  "cells": [
    {
      "cell_type": "code",
      "metadata": {
        "id": "j11BMe3BRAEP"
      },
      "source": [
        "#!pip install simpy\n",
        "import simpy\n",
        "import random\n",
        "import numpy as np\n",
        "import scipy as sp \n",
        "from scipy.stats import ttest_1samp, ttest_ind\n",
        "import math\n",
        "import matplotlib.pyplot as plt\n",
        "from statsmodels.sandbox.stats.multicomp import multipletests\n"
      ],
      "execution_count": null,
      "outputs": []
    },
    {
      "cell_type": "code",
      "metadata": {
        "id": "RAvopq-Am85p"
      },
      "source": [
        "class Service_station(object):\n",
        "\n",
        "  def __init__(self, env, n_servers, mu):\n",
        "    '''    \n",
        "    Initialization enviroment, with servers\n",
        "    S_n is the number of servers that will be created\n",
        "    '''\n",
        "    self.env = env\n",
        "    self.servers = simpy.Resource(env, n_servers)\n",
        "    self.mu = mu\n",
        "\n",
        "  def serve(self, customer):\n",
        "    '''\n",
        "         Processes customer in prio time. \n",
        "             customer: referes to the customer that gets processed\n",
        "    '''\n",
        "    serving_time = random.expovariate(self.mu)\n",
        "    yield self.env.timeout(serving_time) \n",
        "    print(f'The server processed the request of  {customer}')\n",
        "\n",
        "def customer(env, name, Station, data):\n",
        "  '''   \n",
        "    requests that object gets processed by server\n",
        "        data: list of waiting times\n",
        "        mu: service rate\n",
        "        prio: gets drawn form a Markov distribution with mu as mean. \n",
        "        \n",
        "    Saves in data:\n",
        "        waiting time: time betwee arrival to getting assigned to server. \n",
        "  '''\n",
        "  print(f'{name} arrives to the Service station at {env.now}')\n",
        "  start = env.now\n",
        "\n",
        "  with Station.servers.request() as req:\n",
        "    yield req\n",
        "    print(f' The request of {name} is starting to be processed at {env.now}')\n",
        "    end = env.now\n",
        "    yield env.process(Station.serve(name))\n",
        "    print(f'{name} leaves the service station at {env.now}')\n",
        "    \n",
        "\n",
        "  data.append(end-start)\n",
        "\n",
        "def setup(env, n_servers, mu, rate, data):\n",
        "  '''\n",
        "    request setup with S_n servers\n",
        "    creates customers at random interval drawn from Markoc distribution with mean Lambda\n",
        "    \n",
        "        S_n: number of servers to be created\n",
        "        Lambda: arrival rate customers\n",
        "        mu: process rate servers\n",
        "        data: empty list that will be filled with waiting time\n",
        "        \n",
        "  '''\n",
        "  #create service station\n",
        "  workplace = Service_station(env, n_servers, mu)\n",
        "\n",
        "  i = 0\n",
        "  #create customers on the go\n",
        "  while True:\n",
        "    interarrival = random.expovariate(rate)\n",
        "    yield env.timeout(interarrival)\n",
        "    i += 1\n",
        "    env.process(customer(env, f'Customer {i}', workplace, data))"
      ],
      "execution_count": 18,
      "outputs": []
    },
    {
      "cell_type": "code",
      "metadata": {
        "id": "h3BJOFeAm84Z"
      },
      "source": [
        "# Create an environment and start the setup process with 1 servers\n",
        "n_servers = 1 \n",
        "mu = 1    \n",
        "rate_1 = 0.95      \n",
        "sim_time =100000  \n",
        "rho_1 = rate_1 / (n_servers * mu)\n",
        "\n",
        "data1 = []\n",
        "env = simpy.Environment()\n",
        "env.process(setup(env, n_servers, mu, rate_1, data1))\n",
        "\n",
        "# Execute!\n",
        "env.run(until=sim_time)"
      ],
      "execution_count": null,
      "outputs": []
    },
    {
      "cell_type": "code",
      "metadata": {
        "id": "XLgJzHMntUJJ"
      },
      "source": [
        "#results of the first simulation\n",
        "data1 = np.array(data1)\n",
        "E_waiting_time1 = (rho_1/mu)/(1-rho_1)\n",
        "\n",
        "plt.hist(data1)\n",
        "plt.title(\"Histogram of waiting times in a M/M/1 queue\")\n",
        "plt.ylabel(\"Frequency\")\n",
        "plt.xlabel(\"Waiting time\")\n",
        "\n",
        "\n",
        "\n",
        "\n",
        "print(data1.mean())\n",
        "print(E_waiting_time1)"
      ],
      "execution_count": null,
      "outputs": []
    },
    {
      "cell_type": "code",
      "metadata": {
        "id": "hwRT_Mg8uJms"
      },
      "source": [
        "# Create an environment and start the setup process with 2 servers\n",
        "n_servers = 2 \n",
        "mu = 1    \n",
        "rate_2 = 1.9      \n",
        "sim_time = 50000  \n",
        "rho_2 = rate_2 / (n_servers * mu)\n",
        "\n",
        "\n",
        "data2 = []\n",
        "env = simpy.Environment()\n",
        "env.process(setup(env, n_servers, mu, rate_2, data2))\n",
        "\n",
        "# Execute!\n",
        "env.run(until=sim_time)"
      ],
      "execution_count": null,
      "outputs": []
    },
    {
      "cell_type": "code",
      "metadata": {
        "id": "2QCmhCuwwoQr"
      },
      "source": [
        "#results of simulation 2\n",
        "data2 = np.array(data2)\n",
        "\n",
        "print(data2.mean())\n",
        "\n",
        "Pi_W2 = (2*0.95)**2/2 * (0.05 * (4* 0.95) + (2*0.95)**2/2)**(-1)\n",
        "print(Pi_W2)\n",
        "E_waiting_time2 = Pi_W2 /(2 * 1 * 0.05)\n",
        "E_waiting_time2"
      ],
      "execution_count": null,
      "outputs": []
    },
    {
      "cell_type": "code",
      "metadata": {
        "id": "bba1g80IzhV7"
      },
      "source": [
        "# Create an environment and start the setup process with 4 servers\n",
        "n_servers = 4 \n",
        "mu = 1    \n",
        "rate_3 = 3.8     \n",
        "sim_time = 50000   \n",
        "rho_3 = rate_3 / (n_servers * mu)\n",
        "\n",
        "\n",
        "# Create an environment and start the setup process\n",
        "data3 = []\n",
        "env = simpy.Environment()\n",
        "env.process(setup(env, n_servers, mu, rate_3, data3))\n",
        "\n",
        "# Execute!\n",
        "env.run(until=sim_time)"
      ],
      "execution_count": null,
      "outputs": []
    },
    {
      "cell_type": "code",
      "metadata": {
        "id": "GOCt4Xdtzv1O"
      },
      "source": [
        "#results of simulation 3\n",
        "data3 = np.array(data3)\n",
        "\n",
        "#print(data3.mean())\n",
        "plt.hist(data3)\n",
        "\n",
        "Pi_W3 = (4*0.95)**4/24 * (0.05 * (4* 0.95) + (2*0.95)**2/2 + (4*0.95)**4/24)**(-1)\n",
        "print(Pi_W3)\n",
        "E_waiting_time2 = Pi_W2 /(4 * 1 * 0.05)\n",
        "print(E_waiting_time2)\n",
        "\n",
        "plt.hist(data2)\n",
        "plt.title(\"Histogram of waiting times in a M/M/2 queue\")\n",
        "plt.ylabel(\"Frequency\")\n",
        "plt.xlabel(\"Waiting time\")\n"
      ],
      "execution_count": null,
      "outputs": []
    },
    {
      "cell_type": "code",
      "metadata": {
        "id": "0xNR8F-Z2KUT"
      },
      "source": [
        "#same as before but now it is not printing results\n",
        "class Service_station_noprint(object):\n",
        "\n",
        "  def __init__(self, env, n_servers, mu):\n",
        "    self.env = env\n",
        "    self.servers = simpy.Resource(env, n_servers)\n",
        "    self.mu = mu\n",
        "\n",
        "  def serve(self, customer):\n",
        "    serving_time = random.expovariate(self.mu)\n",
        "    yield self.env.timeout(serving_time) \n",
        "    #print(f'The server processed the request of  {customer}')\n",
        "\n",
        "def customer_noprint(env, name, Station, data):\n",
        "  #print(f'{name} arrives to the Service station at {env.now}')\n",
        "  start = env.now\n",
        "\n",
        "  with Station.servers.request() as req:\n",
        "    yield req\n",
        "    #print(f' The request of {name} is starting to be processed at {env.now}')\n",
        "    end = env.now\n",
        "    \n",
        "    yield env.process(Station.serve(name))\n",
        "    #print(f'{name} leaves the service station at {env.now}')\n",
        "    \n",
        "\n",
        "  data.append(end-start)\n",
        "\n",
        "def setup_noprint(env, n_servers, mu, rate, data):\n",
        "  #create service station\n",
        "  workplace = Service_station_noprint(env, n_servers, mu)\n",
        "\n",
        "  i = 0\n",
        "  #create customers on the go\n",
        "  while True:\n",
        "    interarrival = random.expovariate(rate)\n",
        "    yield env.timeout(interarrival)\n",
        "    i += 1\n",
        "    env.process(customer_noprint(env, f'Customer {i}', workplace, data))"
      ],
      "execution_count": 25,
      "outputs": []
    },
    {
      "cell_type": "code",
      "metadata": {
        "id": "5iLozZ_m8R_D"
      },
      "source": [
        "#Simulation for varying time form 1 to 10001 by 100 stepsize in the case of M/M/1\n",
        "n_servers = 1 \n",
        "mu = 1    \n",
        "rate_1 = 0.95      \n",
        "sim_time = range(1,10001,100)   \n",
        "rho_1 = rate_1 / (n_servers * mu)\n",
        "\n",
        "means_sampsize1 = []\n",
        "for i in sim_time:\n",
        "  data1 = []\n",
        "  env = simpy.Environment()\n",
        "  env.process(setup_noprint(env, n_servers, mu, rate_1, data1))\n",
        "# Execute!\n",
        "  env.run(until=i)\n",
        "  means_sampsize1.append(np.array(data1).mean())"
      ],
      "execution_count": null,
      "outputs": []
    },
    {
      "cell_type": "code",
      "metadata": {
        "id": "kKTAdLzC8Rs4"
      },
      "source": [
        "#Simulation for varying time form 1 to 10001 by 100 stepsize in the case of M/M/2\n",
        "n_servers = 2 \n",
        "mu = 1    \n",
        "rate_2 = 1.9      \n",
        "sim_time = range(1, 10001, 100) \n",
        "rho_2 = rate_2 / (n_servers * mu)\n",
        "\n",
        "means_sampsize2 = []\n",
        "for i in sim_time:\n",
        "  data2 = []\n",
        "  env = simpy.Environment()\n",
        "  env.process(setup_noprint(env, n_servers, mu, rate_2, data2))\n",
        "# Execute!\n",
        "  env.run(until=i)\n",
        "  means_sampsize2.append(np.array(data2).mean())"
      ],
      "execution_count": 27,
      "outputs": []
    },
    {
      "cell_type": "code",
      "metadata": {
        "id": "ay9rlNX48KaP"
      },
      "source": [
        "#Simulation for varying time form 1 to 10001 by 100 stepsize in the case of M/M/4\n",
        "n_servers = 4 \n",
        "mu = 1    \n",
        "rate_3 = 3.8     \n",
        "sim_time = range(1,10001,100)   \n",
        "rho_3 = rate_3 / (n_servers * mu)\n",
        "\n",
        "\n",
        "means_sampsize3 = []\n",
        "for i in sim_time:\n",
        "  data3 = []\n",
        "  env = simpy.Environment()\n",
        "  env.process(setup_noprint(env, n_servers, mu, rate_3, data3))\n",
        "# Execute!\n",
        "  env.run(until=i)\n",
        "  means_sampsize3.append(np.array(data3).mean())"
      ],
      "execution_count": 28,
      "outputs": []
    },
    {
      "cell_type": "code",
      "metadata": {
        "id": "qzg-MbyK-WMO"
      },
      "source": [
        "#plotting convergence results\n",
        "plt.figure(figsize=(9, 3))\n",
        "plt.title(\"Convergence behaviour of M/M/n queues\")\n",
        "plt.subplot(131)\n",
        "plt.plot(sim_time, means_sampsize1, label = \"M/M/1\")\n",
        "plt.plot(sim_time, np.repeat(18.05, len(sim_time)))\n",
        "plt.axis([0,10000, 0, 50]) \n",
        "plt.ylabel(\"Mean waiting time\")\n",
        "plt.legend()\n",
        "plt.subplot(132)\n",
        "plt.plot(sim_time, means_sampsize2, label = \"M/M/2\")\n",
        "plt.plot(sim_time, np.repeat(9.05, len(sim_time)))\n",
        "plt.axis([0,10000, 0, 50]) \n",
        "plt.xlabel(\"Ellapsed time per run\")\n",
        "plt.legend()\n",
        "plt.subplot(133)\n",
        "plt.plot(sim_time, means_sampsize3, label = \"M/M/4\")\n",
        "plt.plot(sim_time, np.repeat(4.52, len(sim_time)))\n",
        "plt.axis([0,10000, 0, 50]) \n",
        "plt.legend()\n",
        "plt.savefig(\"Conv_behav.png\")\n"
      ],
      "execution_count": null,
      "outputs": []
    },
    {
      "cell_type": "code",
      "metadata": {
        "id": "umLGWpRkSRjB"
      },
      "source": [
        "# Multiple runs for t-tests\n",
        "n_servers = 1 \n",
        "mu = 1    \n",
        "rate_1 = 0.95      \n",
        "sim_time = 10000   \n",
        "rho_1 = rate_1 / (n_servers * mu)\n",
        "\n",
        "means_repeat1 = []\n",
        "for i in range(100):\n",
        "  data1 = []\n",
        "  env = simpy.Environment()\n",
        "  env.process(setup_noprint(env, n_servers, mu, rate_1, data1))\n",
        "# Execute!\n",
        "  env.run(until=sim_time)\n",
        "  means_repeat1.append(np.array(data1).mean())"
      ],
      "execution_count": 30,
      "outputs": []
    },
    {
      "cell_type": "code",
      "metadata": {
        "id": "8SwP-DbvUPRo"
      },
      "source": [
        "ttest_1samp(np.array(means_repeat1), 18.05)"
      ],
      "execution_count": null,
      "outputs": []
    },
    {
      "cell_type": "code",
      "metadata": {
        "id": "sstmmmnoSotx"
      },
      "source": [
        "n_servers = 2 \n",
        "mu = 1    \n",
        "rate_2 = 1.9      \n",
        "sim_time = 10000\n",
        "rho_2 = rate_2 / (n_servers * mu)\n",
        "\n",
        "means_repeat2 = []\n",
        "for i in range(100):\n",
        "  data2 = []\n",
        "  env = simpy.Environment()\n",
        "  env.process(setup_noprint(env, n_servers, mu, rate_2, data2))\n",
        "# Execute!\n",
        "  env.run(until=sim_time)\n",
        "  means_repeat2.append(np.array(data2).mean())"
      ],
      "execution_count": 32,
      "outputs": []
    },
    {
      "cell_type": "code",
      "metadata": {
        "id": "mbTA1GABVCp7"
      },
      "source": [
        "ttest_1samp(np.array(means_repeat2), 9.05)"
      ],
      "execution_count": null,
      "outputs": []
    },
    {
      "cell_type": "code",
      "metadata": {
        "id": "SAR9oq43TW-l"
      },
      "source": [
        "n_servers = 4 \n",
        "mu = 1    \n",
        "rate_3 = 3.8     \n",
        "sim_time = 10000\n",
        "rho_3 = rate_3 / (n_servers * mu)\n",
        "\n",
        "\n",
        "means_repeat3 = []\n",
        "for i in range(100):\n",
        "  data3 = []\n",
        "  env = simpy.Environment()\n",
        "  env.process(setup_noprint(env, n_servers, mu, rate_3, data3))\n",
        "# Execute!\n",
        "  env.run(until=sim_time)\n",
        "  means_repeat3.append(np.array(data3).mean())"
      ],
      "execution_count": 34,
      "outputs": []
    },
    {
      "cell_type": "code",
      "metadata": {
        "id": "qF5lRAvaV8DA"
      },
      "source": [
        "ttest_1samp(np.array(means_repeat3), 4.52)"
      ],
      "execution_count": null,
      "outputs": []
    },
    {
      "cell_type": "code",
      "metadata": {
        "id": "QCHqBe1dVSY1"
      },
      "source": [
        "#two sample t-test with bonferroni correction\n",
        "test12 = ttest_ind(means_repeat1, means_repeat2)\n",
        "test23 = ttest_ind(means_repeat2, means_repeat3)\n",
        "test13 = ttest_ind(means_repeat1, means_repeat3)\n",
        "\n",
        "\n",
        "print(test)\n",
        "\n",
        "\n",
        "print(multipletests([test12[1],test13[1],test23[1]], method = \"bonferroni\"))\n",
        "\n"
      ],
      "execution_count": null,
      "outputs": []
    }
  ]
}