{
 "cells": [
  {
   "cell_type": "code",
   "execution_count": null,
   "metadata": {},
   "outputs": [],
   "source": [
    "import simpy\n",
    "import random\n",
    "import numpy as np\n",
    "import scipy as sp \n",
    "import math\n",
    "import matplotlib.pyplot as plt\n",
    "import seaborn as sns\n",
    "from scipy.stats import ttest_1samp, ttest_ind\n",
    "from statsmodels.sandbox.stats.multicomp import multipletests"
   ]
  },
  {
   "cell_type": "code",
   "execution_count": null,
   "metadata": {},
   "outputs": [],
   "source": [
    "sim_time = 50000                       # The time for which the simulation will run"
   ]
  },
  {
   "cell_type": "markdown",
   "metadata": {},
   "source": [
    "## M/M/1 Shortes jobs first"
   ]
  },
  {
   "cell_type": "code",
   "execution_count": 15,
   "metadata": {},
   "outputs": [],
   "source": [
    "class Service_station(object):\n",
    "    def __init__(self, env, S_n):\n",
    "        '''    \n",
    "        Initialization enviroment, with servers\n",
    "            S_n is the number of servers that will be created\n",
    "        '''\n",
    "        self.env = env\n",
    "        self.servers = simpy.PriorityResource(env, S_n)\n",
    "\n",
    "    def serve(self, customer, prio):\n",
    "        '''\n",
    "         Processes customer in prio time. \n",
    "             customer: referes to the customer that gets processed\n",
    "             prio: the priority of the customer which will be correlated to the serving time.\n",
    "        '''\n",
    "        serving_time = prio \n",
    "        yield self.env.timeout(serving_time) \n",
    "#         print(f'The server processed the request of {customer} at {env.now}')\n",
    "\n",
    "def customer(env, name, Station, data, mu): \n",
    "    '''   \n",
    "    requests that object gets processed by server\n",
    "        data: list of waiting times\n",
    "        mu: service rate\n",
    "        prio: gets drawn form a Markov distribution with mu as mean. \n",
    "        \n",
    "    Saves in data:\n",
    "        waiting time: time betwee arrival to getting assigned to server. \n",
    "        \n",
    "    '''\n",
    "    start = env.now\n",
    "    prio = random.expovariate(mu)\n",
    "#     print(f'{name} arrives to the Service station at {env.now}, jobsize = {prio}')\n",
    "    \n",
    "    with Station.servers.request(priority=prio) as req: # here we request the usage of a available server\n",
    "        yield req\n",
    "#         print(f'{name} is starting to be processed at {env.now}')\n",
    "        \n",
    "        end = env.now\n",
    "        yield  env.process(Station.serve(name, prio))\n",
    "#         print(f'{name} leaves the service station at {env.now}')\n",
    "        \n",
    "    data.append(end-start)\n",
    "\n",
    "def setup(env, S_n, mu, Lambda, data):\n",
    "    '''\n",
    "    request setup with S_n servers\n",
    "    creates customers at random interval drawn from Markoc distribution with mean Lambda\n",
    "    \n",
    "        S_n: number of servers to be created\n",
    "        Lambda: arrival rate customers\n",
    "        mu: process rate servers\n",
    "        data: empty list that will be filled with waiting time\n",
    "        \n",
    "    '''\n",
    "        #create service station\n",
    "        workplace = Service_station(env, S_n)\n",
    "\n",
    "        i = 0\n",
    "        #create customers on the go\n",
    "        while True:\n",
    "            interarrival = random.expovariate(Lambda)\n",
    "            yield env.timeout(interarrival)\n",
    "            i += 1\n",
    "            env.process(customer(env, f'Customer {i}', workplace, data, mu))\n",
    "\n"
   ]
  },
  {
   "cell_type": "code",
   "execution_count": 16,
   "metadata": {},
   "outputs": [],
   "source": [
    "S_n = 1                    \n",
    "mu3 = 1                    \n",
    "rho3 = 0.95\n",
    "Lambda3 = rho3 * S_n *mu3   \n",
    "data3 = []\n",
    "\n",
    "# Create an environment and start the setup process\n",
    "env = simpy.Environment()\n",
    "env.process(setup(env, S_n, mu3, Lambda3, data3))\n",
    "\n",
    "# Execute!\n",
    "env.run(until=sim_time)"
   ]
  },
  {
   "cell_type": "code",
   "execution_count": null,
   "metadata": {},
   "outputs": [],
   "source": [
    "data3= np.array(data3)\n",
    "E_waiting_time1 = (rho3/mu3)/(1-rho3)\n",
    "\n",
    "print(sum(data3)/len(data3))\n",
    "print(np.std(data3))"
   ]
  },
  {
   "cell_type": "code",
   "execution_count": null,
   "metadata": {},
   "outputs": [],
   "source": [
    "ax = sns.boxplot(data = np.array(data3), orient=\"h\",)\n",
    "ax.set_xscale('log')\n",
    "ax.set_title('Shortes jobs first')\n",
    "ax.set_xlabel('waiting time (t)')"
   ]
  },
  {
   "cell_type": "markdown",
   "metadata": {},
   "source": [
    "### statistics"
   ]
  },
  {
   "cell_type": "code",
   "execution_count": null,
   "metadata": {},
   "outputs": [],
   "source": [
    "# Create an environment and start the setup process\n",
    "S_n = 1                    # number of servers in use\n",
    "mu3 = 1                     # average process time \n",
    "rho3 = 0.95\n",
    "Lambda3 = rho3 * S_n *mu3    # lambda The arrival rate into the system as a whole\n",
    "data3 = []\n",
    "\n",
    "means_repeat3 = []\n",
    "max_data3 = []\n",
    "for i in range(100):\n",
    "    datas3 = []\n",
    "    env = simpy.Environment()\n",
    "    env.process(setup(env, S_n, mu3, Lambda3, datas3))\n",
    "    # Execute!\n",
    "    env.run(until=sim_time)\n",
    "    means_repeat3.append(np.array(datas3).mean())\n",
    "    max_data3.append(max(datas3))"
   ]
  },
  {
   "cell_type": "code",
   "execution_count": null,
   "metadata": {},
   "outputs": [],
   "source": [
    "print('average max waiting time:', sum(max_data3)/len(max_data3))\n",
    "print('standard deviation max waiting time:', np.std(max_data3))\n",
    "print('Max max waiting time:', max(max_data3))\n",
    "print('standard deviation max waiting time:', np.std(max_data3))"
   ]
  },
  {
   "cell_type": "code",
   "execution_count": null,
   "metadata": {},
   "outputs": [],
   "source": [
    "ttest_1samp(np.array(means_repeat3), 18.05)"
   ]
  },
  {
   "cell_type": "markdown",
   "metadata": {},
   "source": [
    "## Deterministic model with different n "
   ]
  },
  {
   "cell_type": "code",
   "execution_count": null,
   "metadata": {},
   "outputs": [],
   "source": [
    "class Service_station(object):\n",
    "    def __init__(self, env, S_n, mu):\n",
    "        '''    \n",
    "        Initialization enviroment, with servers\n",
    "            S_n is the number of servers that will be created\n",
    "            mu: server rate\n",
    "        '''\n",
    "        self.env = env\n",
    "        self.servers = simpy.Resource(env, S_n)\n",
    "        self.mu = mu\n",
    "        \n",
    "    def serve(self, customer):\n",
    "        '''\n",
    "        Processes cutomer with serving time equal to mu\n",
    "             customer: referes to the customer that gets processed\n",
    "        '''\n",
    "        serving_time = self.mu  \n",
    "        yield self.env.timeout(serving_time) \n",
    "\n",
    "def customer(env, name, Station, data):\n",
    "    '''   \n",
    "    requests that object gets processed by server\n",
    "        data: list of waiting times\n",
    "        \n",
    "    Saves in data:\n",
    "        waiting time: time betwee arrival to getting assigned to server. \n",
    "    '''\n",
    "    \n",
    "    start = env.now\n",
    "    with Station.servers.request() as req: # here we request the usage of a available server\n",
    "        yield req\n",
    "        end = env.now\n",
    "        yield env.process(Station.serve(name))\n",
    "    data.append(end-start)\n",
    "    \n",
    "def setup(env, S_n, Lambda, mu, data):\n",
    "    '''\n",
    "    request setup with S_n servers\n",
    "    creates customers at random interval drawn from Markoc distribution with mean Lambda\n",
    "    \n",
    "        S_n: number of servers to be created\n",
    "        Lambda: arrival rate customers\n",
    "        mu: process rate servers\n",
    "        data: empty list that will be filled with waiting time\n",
    "        \n",
    "    '''\n",
    "        #create service station\n",
    "        workplace = Service_station(env, S_n, mu)\n",
    "        i = 0\n",
    "        #create customers on the go\n",
    "        while True:\n",
    "            interarrival = random.expovariate(Lambda)\n",
    "            yield env.timeout(interarrival)\n",
    "            i += 1\n",
    "            env.process(customer(env, f'Customer {i}', workplace, data))"
   ]
  },
  {
   "cell_type": "markdown",
   "metadata": {},
   "source": [
    "### n = 1"
   ]
  },
  {
   "cell_type": "code",
   "execution_count": null,
   "metadata": {},
   "outputs": [],
   "source": [
    "#set veriables\n",
    "S_n = 1                      # number of servers in use\n",
    "muD1 = 1                               # The arrival rate into the system as a whole\n",
    "rhoD1 = 0.95\n",
    "LambdaD1 = S_n * rhoD1 * muD1             # The process time at the servers\n",
    "sim_time1 = range(10,10002,100)    \n",
    "\n",
    "means_sampsizeD1= []\n",
    "for i in sim_time1:\n",
    "    dataD1 = []\n",
    "    # Create an environment and start the setup process\n",
    "    env = simpy.Environment()\n",
    "    env.process(setup(env, S_n, LambdaD1, muD1, dataD1))\n",
    "    \n",
    "    # Execute!\n",
    "    env.run(until=i)\n",
    "    means_sampsizeD1.append(sum(dataD1)/ len(dataD1))"
   ]
  },
  {
   "cell_type": "code",
   "execution_count": null,
   "metadata": {},
   "outputs": [],
   "source": [
    "#set veriables\n",
    "S_n = 1                      # number of servers in use\n",
    "muD1 = 1                               # The arrival rate into the system as a whole\n",
    "rhoD1 = 0.95\n",
    "LambdaD1 = S_n * rhoD1 * muD1             # The process time at the servers\n",
    "dataD1 = []\n",
    "sim_time = 50000                       # The time for which the simulation will run\n",
    "\n",
    "# Create an environment and start the setup process\n",
    "env = simpy.Environment()\n",
    "env.process(setup(env, S_n, LambdaD1, muD1, dataD1))\n",
    "\n",
    "# Execute!\n",
    "env.run(until=sim_time)\n",
    "\n",
    "dataD1 = np.array(dataD1)\n",
    "E_waiting_time1 = (rhoD1/muD1)/(1-rhoD1)\n",
    "\n",
    "print(dataD1.mean())\n",
    "\n",
    "plt.figure(figsize=(9, 3))\n",
    "plt.subplot(131)\n",
    "plt.hist(dataD1)\n",
    "plt.title(\"Histogram of waiting times in a M/D/1 queue\")\n",
    "plt.ylabel(\"Frequency\")\n",
    "plt.xlabel(\"Waiting time\")"
   ]
  },
  {
   "cell_type": "markdown",
   "metadata": {},
   "source": [
    "### Statistics n = 1"
   ]
  },
  {
   "cell_type": "code",
   "execution_count": null,
   "metadata": {},
   "outputs": [],
   "source": [
    "S_n = 1                      # number of servers in use\n",
    "muD1 = 1                               # The arrival rate into the system as a whole\n",
    "rhoD1 = 0.95\n",
    "LambdaD1 = S_n * rhoD1 * muD1             # The process time at the servers\n",
    "sim_time = 50000 \n",
    "\n",
    "means_repeatD1 = []\n",
    "for i in range(100):\n",
    "    dataD1 = []\n",
    "    env = simpy.Environment()\n",
    "    env.process(setup(env, S_n, LambdaD1, muD1, dataD1))\n",
    "#   Execute!\n",
    "    env.run(until=sim_time)\n",
    "    means_repeatD1.append(np.array(dataD1).mean())"
   ]
  },
  {
   "cell_type": "code",
   "execution_count": null,
   "metadata": {},
   "outputs": [],
   "source": [
    "print(sum(means_repeatD1)/len(means_repeatD1))\n",
    "print(np.std(means_repeatD1))\n",
    "ttest_1samp(np.array(means_repeatD1), 9.5)"
   ]
  },
  {
   "cell_type": "markdown",
   "metadata": {},
   "source": [
    "### n = 2"
   ]
  },
  {
   "cell_type": "code",
   "execution_count": null,
   "metadata": {},
   "outputs": [],
   "source": [
    "#set veriables\n",
    "S_n = 2                      # number of servers in use\n",
    "muD2 = 1                               # The arrival rate into the system as a whole\n",
    "rhoD2 = 0.95\n",
    "LambdaD2 = S_n * rhoD2 * muD2             # The process time at the servers\n",
    "sim_time1 = range(10,10002,100)    \n",
    "\n",
    "means_sampsizeD2= []\n",
    "for i in sim_time1:\n",
    "    dataD2 = []\n",
    "    # Create an environment and start the setup process\n",
    "    env = simpy.Environment()\n",
    "    env.process(setup(env, S_n, LambdaD2, muD2, dataD2))\n",
    "\n",
    "    # Execute!\n",
    "    env.run(until=i)\n",
    "    means_sampsizeD2.append(sum(dataD2)/ len(dataD2))"
   ]
  },
  {
   "cell_type": "code",
   "execution_count": null,
   "metadata": {},
   "outputs": [],
   "source": [
    "#set veriables\n",
    "S_n = 2                      # number of servers in use\n",
    "muD2 = 1                               # The arrival rate into the system as a whole\n",
    "rhoD2 = 0.95\n",
    "LambdaD2 = S_n * rhoD2 * muD2             # The process time at the servers\n",
    "dataD2 = []\n",
    "sim_time = 50000                       # The time for which the simulation will run\n",
    "\n",
    "# Create an environment and start the setup process\n",
    "env = simpy.Environment()\n",
    "env.process(setup(env, S_n, LambdaD2, muD2, dataD2))\n",
    "\n",
    "# Execute!\n",
    "env.run(until=sim_time)\n",
    "\n",
    "dataD2 = np.array(dataD2)\n",
    "E_waiting_time2 = (rhoD2/muD2)/(1-rhoD2)\n",
    "\n",
    "print(dataD2.mean())\n",
    "\n",
    "plt.figure(figsize=(9, 3))\n",
    "plt.subplot(131)\n",
    "plt.hist(dataD2)\n",
    "plt.title(\"Histogram of waiting times in a M/D/4 queue\")\n",
    "plt.ylabel(\"Frequency\")\n",
    "plt.xlabel(\"Waiting time\")"
   ]
  },
  {
   "cell_type": "markdown",
   "metadata": {},
   "source": [
    "### Statistics n = 2"
   ]
  },
  {
   "cell_type": "code",
   "execution_count": null,
   "metadata": {},
   "outputs": [],
   "source": [
    "S_n = 2                      # number of servers in use\n",
    "muD2 = 1                               # The arrival rate into the system as a whole\n",
    "rhoD2 = 0.95\n",
    "LambdaD2 = S_n * rhoD2 * muD2             # The process time at the servers\n",
    "dataD2 = []\n",
    "sim_time = 50000 \n",
    "\n",
    "means_repeatD2 = []\n",
    "for i in range(100):\n",
    "    dataD2 = []\n",
    "    env = simpy.Environment()\n",
    "    env.process(setup(env, S_n, LambdaD2, muD2, dataD2))\n",
    "#   Execute!\n",
    "    env.run(until=sim_time)\n",
    "    means_repeatD2.append(np.array(dataD2).mean())"
   ]
  },
  {
   "cell_type": "code",
   "execution_count": null,
   "metadata": {},
   "outputs": [],
   "source": [
    "print(sum(means_repeatD2)/len(means_repeatD2))\n",
    "print(np.std(means_repeatD2))\n",
    "ttest_1samp(np.array(means_repeatD2), 4.75)"
   ]
  },
  {
   "cell_type": "markdown",
   "metadata": {},
   "source": [
    "### n = 4"
   ]
  },
  {
   "cell_type": "code",
   "execution_count": null,
   "metadata": {},
   "outputs": [],
   "source": [
    "#set veriables\n",
    "S_n = 4                      # number of servers in use\n",
    "mu44 = 1                               # The arrival rate into the system as a whole\n",
    "rho44 = 0.95\n",
    "Lambda44 = S_n * rho44 * mu44             # The process time at the servers\n",
    "sim_time1 = range(2,10002,100)    \n",
    "\n",
    "means_sampsizeD4= []\n",
    "for i in sim_time1:\n",
    "    dataD4 = []\n",
    "    # Create an environment and start the setup process\n",
    "    env = simpy.Environment()\n",
    "    env.process(setup(env, S_n, Lambda44, mu44, dataD4))\n",
    "\n",
    "    # Execute!\n",
    "    env.run(until=i)\n",
    "    means_sampsizeD4.append(sum(dataD4)/ len(dataD4))"
   ]
  },
  {
   "cell_type": "code",
   "execution_count": null,
   "metadata": {},
   "outputs": [],
   "source": [
    "#set veriables\n",
    "S_n = 4                      \n",
    "mu44 = 1                               \n",
    "rho44 = 0.95\n",
    "Lambda44 = S_n * rho44 * mu44            \n",
    "data44 = []\n",
    "sim_time = 50000                       # The time for which the simulation will run\n",
    "\n",
    "# Create an environment and start the setup process\n",
    "env = simpy.Environment()\n",
    "env.process(setup(env, S_n, Lambda44, mu44, data44))\n",
    "\n",
    "# Execute!\n",
    "env.run(until=sim_time)\n",
    "\n",
    "dataD4 = np.array(dataD4)\n",
    "E_waiting_time4 = (rho44/mu44)/(1-rho44)\n",
    "\n",
    "print(dataD4.mean())\n",
    "\n",
    "plt.figure(figsize=(9, 3))\n",
    "plt.subplot(131)\n",
    "plt.hist(dataD4)\n",
    "plt.title(\"Histogram of waiting times in a M/D/4 queue\")\n",
    "plt.ylabel(\"Frequency\")\n",
    "plt.xlabel(\"Waiting time\")"
   ]
  },
  {
   "cell_type": "markdown",
   "metadata": {},
   "source": [
    "### Statistics n = 4"
   ]
  },
  {
   "cell_type": "code",
   "execution_count": null,
   "metadata": {},
   "outputs": [],
   "source": [
    "S_n = 4                      # number of servers in use\n",
    "muD4 = 1                               # The arrival rate into the system as a whole\n",
    "rhoD4 = 0.95\n",
    "LambdaD4 = S_n * rhoD4 * muD4             # The process time at the servers\n",
    "dataD4 = []\n",
    "sim_time = 50000 \n",
    "\n",
    "means_repeatD4 = []\n",
    "for i in range(100):\n",
    "    dataD4 = []\n",
    "    env = simpy.Environment()\n",
    "    env.process(setup(env, S_n, LambdaD4, muD4, dataD4))\n",
    "#   Execute!\n",
    "    env.run(until=sim_time)\n",
    "    means_repeatD4.append(np.array(dataD4).mean())"
   ]
  },
  {
   "cell_type": "code",
   "execution_count": null,
   "metadata": {},
   "outputs": [],
   "source": [
    "print(sum(means_repeatD4)/len(means_repeatD4))\n",
    "print(np.std(means_repeatD4))\n",
    "ttest_1samp(np.array(means_repeatD4), 2.38)"
   ]
  },
  {
   "cell_type": "markdown",
   "metadata": {},
   "source": [
    "### Plots"
   ]
  },
  {
   "cell_type": "code",
   "execution_count": null,
   "metadata": {},
   "outputs": [],
   "source": [
    "plt.figure(figsize=(10, 4))\n",
    "plt.subplot(131)\n",
    "plt.plot(sim_time1, means_sampsizeD1, label = \"M/D/1\")\n",
    "plt.plot(sim_time1, np.repeat(9.5, len(sim_time1)), label = \"E(W) = 9.5\")\n",
    "plt.axis([0,10000, 0, 50]) \n",
    "plt.ylabel(\"Mean waiting time\")\n",
    "plt.legend()\n",
    "plt.subplot(132)\n",
    "plt.plot(sim_time1, means_sampsizeD2, label = \"M/D/2\")\n",
    "plt.plot(sim_time1, np.repeat(4.75, len(sim_time1)), label = \"E(W) = 4.75\")\n",
    "plt.axis([0,10000, 0, 25]) \n",
    "plt.xlabel(\"Ellapsed time per run\")\n",
    "plt.legend()\n",
    "plt.subplot(133)\n",
    "plt.plot(sim_time1, means_sampsizeD4, label = \"M/D/4\")\n",
    "plt.plot(sim_time1, np.repeat(2.38, len(sim_time1)), label = \"E(W) = 2.38\")\n",
    "plt.axis([0,10000, 0, 12.5]) \n",
    "plt.legend()\n",
    "plt.savefig(\"Conv_behav_MDN.png\")\n",
    "plt.show()\n"
   ]
  },
  {
   "cell_type": "markdown",
   "metadata": {},
   "source": [
    "## hyperexponential Service"
   ]
  },
  {
   "cell_type": "code",
   "execution_count": 3,
   "metadata": {},
   "outputs": [],
   "source": [
    "def Hyper_ex():\n",
    "    '''\n",
    "        returns:\n",
    "            p: RV drawn from exponential distribution with mean 1 or 5 with 75% or 25% chance respectively\n",
    "    '''\n",
    "    x = np.random.uniform(0,1)\n",
    "    if x < 0.75:\n",
    "        p =  np.random.exponential(1)\n",
    "        return p\n",
    "    else:\n",
    "        p =  np.random.exponential(5)\n",
    "        return p"
   ]
  },
  {
   "cell_type": "code",
   "execution_count": 36,
   "metadata": {},
   "outputs": [],
   "source": [
    "class Service_station(object):\n",
    "    def __init__(self, env, S_n):\n",
    "        '''    \n",
    "        Initialization enviroment, with servers\n",
    "            S_n is the number of servers that will be created\n",
    "        '''\n",
    "        self.env = env\n",
    "        self.servers = simpy.Resource(env, S_n)\n",
    "        \n",
    "    def serve(self, customer):\n",
    "        '''\n",
    "        Processes cutomer with serving time drawn from Hyper exponential distribution\n",
    "             customer: referes to the customer that gets processed\n",
    "        '''\n",
    "        serving_time = Hyper_ex()  \n",
    "        yield self.env.timeout(serving_time) \n",
    "\n",
    "def customer(env, name, Station, data, t):\n",
    "    '''   \n",
    "    requests that object gets processed by server\n",
    "        data: list of waiting times\n",
    "        \n",
    "    Saves \n",
    "        in data:\n",
    "            waiting time: time betwee arrival to getting assigned to server. \n",
    "        in t:\n",
    "            the time at which the costomer was processed\n",
    "    '''\n",
    "    start = env.now\n",
    "    with Station.servers.request() as req: # here we request the usage of a available server\n",
    "        yield req\n",
    "        end = env.now\n",
    "        yield env.process(Station.serve(name)) \n",
    "    data.append(end-start)\n",
    "    t.append(end)\n",
    "\n",
    "def setup(env, S_n, Lambda, data,t):\n",
    "    '''\n",
    "    request setup with S_n servers\n",
    "    creates customers at random interval drawn from Markoc distribution with mean Lambda\n",
    "    \n",
    "        S_n: number of servers to be created\n",
    "        Lambda: arrival rate customers\n",
    "        mu: process rate servers\n",
    "        data: empty list\n",
    "        t: empty list     \n",
    "    '''\n",
    "    #create service station\n",
    "    workplace = Service_station(env, S_n)\n",
    "    i = 0\n",
    "    #create customers on the go\n",
    "    while True:\n",
    "        interarrival = random.expovariate(Lambda)\n",
    "        yield env.timeout(interarrival)\n",
    "        i += 1\n",
    "        env.process(customer(env, f'Customer {i}', workplace, data,t))"
   ]
  },
  {
   "cell_type": "code",
   "execution_count": 44,
   "metadata": {},
   "outputs": [],
   "source": [
    "# set variables\n",
    "S_n = 1                      \n",
    "mu4HX = 2\n",
    "rho4HX = 0.95\n",
    "Lambda4HX = S_n * rho4HX * mu4HX             \n",
    "data4HX = []\n",
    "t = []\n",
    "# Create an environment and start the setup process\n",
    "env = simpy.Environment()\n",
    "env.process(setup(env, S_n, Lambda4HX, data4HX,t))\n",
    "\n",
    "# Execute!\n",
    "env.run(until=sim_time)"
   ]
  },
  {
   "cell_type": "code",
   "execution_count": 46,
   "metadata": {},
   "outputs": [
    {
     "data": {
      "text/plain": [
       "Text(0.5, 0, 'time(t)')"
      ]
     },
     "execution_count": 46,
     "metadata": {},
     "output_type": "execute_result"
    },
    {
     "data": {
      "image/png": "[encoded data removed]",
      "text/plain": [
       "<Figure size 432x288 with 1 Axes>"
      ]
     },
     "metadata": {
      "needs_background": "light"
     },
     "output_type": "display_data"
    }
   ],
   "source": [
    "plt.figure()\n",
    "plt.plot(data4HX, t)\n",
    "plt.title(\"Increase of waiting time over time\")\n",
    "plt.ylabel(\"waiting time\")\n",
    "plt.xlabel(\"time(t)\")"
   ]
  },
  {
   "cell_type": "code",
   "execution_count": null,
   "metadata": {},
   "outputs": [],
   "source": [
    "data4HX = np.array(data4HX)\n",
    "E_waiting_time1 = (rho4HX/mu4HX)/(1-rho4HX)\n",
    "\n",
    "plt.figure(figsize=(9, 3))\n",
    "plt.hist(data4HX)\n",
    "plt.title(\"Histogram of waiting times in a M/H/1 queue\")\n",
    "plt.ylabel(\"Frequency\")\n",
    "plt.xlabel(\"Waiting time\")"
   ]
  },
  {
   "cell_type": "markdown",
   "metadata": {},
   "source": [
    "### Hyper exponential results"
   ]
  },
  {
   "cell_type": "code",
   "execution_count": null,
   "metadata": {},
   "outputs": [],
   "source": [
    "# set variables\n",
    "S_n = 1                      \n",
    "mu4HX = 2\n",
    "rho4HX = 0.95\n",
    "Lambda4HX = S_n * rho4HX * mu4HX             \n",
    "data4HX = []\n",
    "\n",
    "\n",
    "means_repeat4HX = []\n",
    "std_repeat4HX = []\n",
    "max_repeat4HX = []\n",
    "\n",
    "for i in range(100):\n",
    "    data4HX = []\n",
    "    env = simpy.Environment()\n",
    "    env.process(setup(env, S_n, Lambda4HX, data4HX))\n",
    "#   Execute!\n",
    "    env.run(until=sim_time)\n",
    "    means_repeat4HX.append(np.array(data4HX).mean()) \n",
    "    std_repeat4HX.append(np.std(data4HX))\n",
    "    max_repeat4HX.append(max(data4HX))"
   ]
  },
  {
   "cell_type": "code",
   "execution_count": null,
   "metadata": {},
   "outputs": [],
   "source": [
    "print(sum(means_repeat4HX)/len(means_repeat4HX))\n",
    "print(np.std(means_repeat4HX))"
   ]
  },
  {
   "cell_type": "code",
   "execution_count": null,
   "metadata": {},
   "outputs": [],
   "source": []
  }
 ],
 "metadata": {
  "kernelspec": {
   "display_name": "Python 3",
   "language": "python",
   "name": "python3"
  },
  "language_info": {
   "codemirror_mode": {
    "name": "ipython",
    "version": 3
   },
   "file_extension": ".py",
   "mimetype": "text/x-python",
   "name": "python",
   "nbconvert_exporter": "python",
   "pygments_lexer": "ipython3",
   "version": "3.8.3"
  }
 },
 "nbformat": 4,
 "nbformat_minor": 4
}
